{
  "nbformat": 4,
  "nbformat_minor": 0,
  "metadata": {
    "colab": {
      "provenance": [],
      "authorship_tag": "ABX9TyMEsSDaj53yF7V6yBUA89jf",
      "include_colab_link": true
    },
    "kernelspec": {
      "name": "python3",
      "display_name": "Python 3"
    },
    "language_info": {
      "name": "python"
    }
  },
  "cells": [
    {
      "cell_type": "markdown",
      "metadata": {
        "id": "view-in-github",
        "colab_type": "text"
      },
      "source": [
        "<a href=\"https://colab.research.google.com/github/Parth354/Advocate-eportal/blob/main/first_ai_model.ipynb\" target=\"_parent\"><img src=\"https://colab.research.google.com/assets/colab-badge.svg\" alt=\"Open In Colab\"/></a>"
      ]
    },
    {
      "cell_type": "markdown",
      "source": [
        "Importing required Libraries For Data Preprocessing"
      ],
      "metadata": {
        "id": "GIJdfreP_w3e"
      }
    },
    {
      "cell_type": "code",
      "execution_count": 1,
      "metadata": {
        "id": "58qxoEhr11uk"
      },
      "outputs": [],
      "source": [
        "import numpy as np\n",
        "import matplotlib.pyplot as plt\n",
        "import pandas as pd"
      ]
    },
    {
      "cell_type": "markdown",
      "source": [
        "Importing the Data Set"
      ],
      "metadata": {
        "id": "fz-2mNEiALGK"
      }
    },
    {
      "cell_type": "code",
      "source": [
        "dataset=pd.read_csv('data.csv')\n",
        "X=dataset.iloc[:,:-1].values\n",
        "Y=dataset.iloc[:,-1].values"
      ],
      "metadata": {
        "id": "D29ZHXEb_3Cv"
      },
      "execution_count": 2,
      "outputs": []
    },
    {
      "cell_type": "markdown",
      "source": [
        "Printing the Data"
      ],
      "metadata": {
        "id": "9Me3ty9v_vNI"
      }
    },
    {
      "cell_type": "code",
      "source": [
        "print(X)\n",
        "print(Y)"
      ],
      "metadata": {
        "colab": {
          "base_uri": "https://localhost:8080/"
        },
        "id": "yQh9PM78_t9Z",
        "outputId": "ec7277d0-6c5c-4d47-f48c-0d48be4cc6b8"
      },
      "execution_count": 3,
      "outputs": [
        {
          "output_type": "stream",
          "name": "stdout",
          "text": [
            "[['Hcl' 18.74 4.14 53.26]\n",
            " ['Infosys' 26.09 8.2 56.69]\n",
            " ['Tcs' 28.32 12.48 111.0]\n",
            " ['Wipro' 16.65 3.79 20.71]\n",
            " ['Infosys' 30.38 9.18 56.69]\n",
            " ['Wipro' 20.12 3.47 20.71]\n",
            " ['Tcs' 32.1 14.15 111.0]\n",
            " ['Hcl' 22.42 4.97 53.26]]\n",
            "['YES' 'NO' 'YES' 'YES' 'NO' 'NO' 'NO' 'NO']\n"
          ]
        }
      ]
    },
    {
      "cell_type": "markdown",
      "source": [
        "Missing DATA"
      ],
      "metadata": {
        "id": "j6aF-s-GBgYV"
      }
    },
    {
      "cell_type": "code",
      "source": [
        "from sklearn.impute import SimpleImputer\n",
        "imputer = SimpleImputer(missing_values=np.nan, strategy='mean')\n",
        "imputer.fit(X[:,1:3])\n",
        "X[:,1:3]=imputer.transform(X[:,1:3])"
      ],
      "metadata": {
        "id": "GX-lgoNCBkOq"
      },
      "execution_count": 4,
      "outputs": []
    },
    {
      "cell_type": "code",
      "source": [
        "print(X)"
      ],
      "metadata": {
        "colab": {
          "base_uri": "https://localhost:8080/"
        },
        "id": "HDiVgXh6EGga",
        "outputId": "abf0e6a3-26da-4c8c-c38b-4d5736ebfa51"
      },
      "execution_count": 5,
      "outputs": [
        {
          "output_type": "stream",
          "name": "stdout",
          "text": [
            "[['Hcl' 18.74 4.14 53.26]\n",
            " ['Infosys' 26.09 8.2 56.69]\n",
            " ['Tcs' 28.32 12.48 111.0]\n",
            " ['Wipro' 16.65 3.79 20.71]\n",
            " ['Infosys' 30.38 9.18 56.69]\n",
            " ['Wipro' 20.12 3.47 20.71]\n",
            " ['Tcs' 32.1 14.15 111.0]\n",
            " ['Hcl' 22.42 4.97 53.26]]\n"
          ]
        }
      ]
    },
    {
      "cell_type": "markdown",
      "source": [
        "Encoding Categorical Data\n"
      ],
      "metadata": {
        "id": "UXS5ijt6EQBN"
      }
    },
    {
      "cell_type": "code",
      "source": [
        "from sklearn.compose import ColumnTransformer\n",
        "from sklearn.preprocessing import OneHotEncoder\n",
        "ct = ColumnTransformer(transformers=[('encoder',OneHotEncoder(),[0])],remainder='passthrough')\n",
        "X=np.array(ct.fit_transform(X))"
      ],
      "metadata": {
        "id": "ELTSNf98ET1h"
      },
      "execution_count": 6,
      "outputs": []
    },
    {
      "cell_type": "code",
      "source": [
        "print(X)"
      ],
      "metadata": {
        "colab": {
          "base_uri": "https://localhost:8080/"
        },
        "id": "o1aYEdTqGRf7",
        "outputId": "36197dba-dbb3-48a4-a72e-2cbd2475cfc6"
      },
      "execution_count": 7,
      "outputs": [
        {
          "output_type": "stream",
          "name": "stdout",
          "text": [
            "[[1.0 0.0 0.0 0.0 18.74 4.14 53.26]\n",
            " [0.0 1.0 0.0 0.0 26.09 8.2 56.69]\n",
            " [0.0 0.0 1.0 0.0 28.32 12.48 111.0]\n",
            " [0.0 0.0 0.0 1.0 16.65 3.79 20.71]\n",
            " [0.0 1.0 0.0 0.0 30.38 9.18 56.69]\n",
            " [0.0 0.0 0.0 1.0 20.12 3.47 20.71]\n",
            " [0.0 0.0 1.0 0.0 32.1 14.15 111.0]\n",
            " [1.0 0.0 0.0 0.0 22.42 4.97 53.26]]\n"
          ]
        }
      ]
    },
    {
      "cell_type": "markdown",
      "source": [
        "Encoding Dependent Variables\n"
      ],
      "metadata": {
        "id": "gbGrhpr0Hua5"
      }
    },
    {
      "cell_type": "code",
      "source": [
        "from sklearn.preprocessing import LabelEncoder\n",
        "le=LabelEncoder()\n",
        "Y=le.fit_transform(Y)"
      ],
      "metadata": {
        "id": "cCHYXrPgIPf9"
      },
      "execution_count": 8,
      "outputs": []
    },
    {
      "cell_type": "markdown",
      "source": [
        "Splitting The Data into the training Data and Test Data"
      ],
      "metadata": {
        "id": "gjOjtCP7IqPP"
      }
    },
    {
      "cell_type": "code",
      "source": [
        "from sklearn.model_selection import train_test_split\n",
        "X_train, X_test, Y_train, Y_test= train_test_split(X,Y,test_size=0.2,random_state=1)\n"
      ],
      "metadata": {
        "id": "SvETO5BNIzZ5"
      },
      "execution_count": 13,
      "outputs": []
    },
    {
      "cell_type": "code",
      "source": [
        "print(X_test)"
      ],
      "metadata": {
        "colab": {
          "base_uri": "https://localhost:8080/"
        },
        "id": "HNOxIwYQ11Vq",
        "outputId": "83e0353b-eeb7-416c-e2dc-8a1a3d2f2b27"
      },
      "execution_count": 15,
      "outputs": [
        {
          "output_type": "stream",
          "name": "stdout",
          "text": [
            "[[1.0 0.0 0.0 0.0 22.42 4.97 53.26]\n",
            " [0.0 0.0 1.0 0.0 28.32 12.48 111.0]]\n"
          ]
        }
      ]
    },
    {
      "cell_type": "markdown",
      "source": [
        "Feature Scaling\n"
      ],
      "metadata": {
        "id": "ZJhKRS9j1_Y8"
      }
    },
    {
      "cell_type": "code",
      "source": [
        "from sklearn.preprocessing import StandardScaler\n",
        "sc=StandardScaler()\n",
        "X_train[:,4:]= sc.fit_transform(X_train[:,4:])\n",
        "X_test[:,4:]=sc.transform(X_test[:,4:])"
      ],
      "metadata": {
        "id": "YgZrfKkh2Ggh"
      },
      "execution_count": 16,
      "outputs": []
    },
    {
      "cell_type": "code",
      "source": [
        "print(X_train)\n",
        "print(X_test)"
      ],
      "metadata": {
        "colab": {
          "base_uri": "https://localhost:8080/"
        },
        "id": "alnUkBJz3e04",
        "outputId": "008a580c-a985-46f6-ace4-c46ef80df817"
      },
      "execution_count": 17,
      "outputs": [
        {
          "output_type": "stream",
          "name": "stdout",
          "text": [
            "[[0.0 1.0 0.0 0.0 0.3531920265711554 0.27268806510014093\n",
            "  0.11629133907572904]\n",
            " [0.0 0.0 1.0 0.0 1.3753512944809354 1.8253138903114712\n",
            "  1.9139524278431372]\n",
            " [1.0 0.0 0.0 0.0 -0.8968696405065288 -0.7867507332793547\n",
            "  0.0027583334695384714]\n",
            " [0.0 1.0 0.0 0.0 1.0828198567430278 0.5284146716055366\n",
            "  0.11629133907572904]\n",
            " [0.0 0.0 0.0 1.0 -1.2523293526415438 -0.8780816641741388\n",
            "  -1.074646719732066]\n",
            " [0.0 0.0 0.0 1.0 -0.6621641846470449 -0.9615842295636556\n",
            "  -1.074646719732066]]\n",
            "[[1.0 0.0 0.0 0.0 -0.27098842488123887 -0.5701659543002953\n",
            "  0.0027583334695384714]\n",
            " [0.0 0.0 1.0 0.0 0.7324624371266977 1.3895348771849299\n",
            "  1.9139524278431372]]\n"
          ]
        }
      ]
    }
  ]
}